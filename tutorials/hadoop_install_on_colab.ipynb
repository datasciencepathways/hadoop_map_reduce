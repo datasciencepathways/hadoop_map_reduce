{
 "cells": [
  {
   "cell_type": "markdown",
   "metadata": {
    "id": "myPIGP-mwKBD"
   },
   "source": [
    "##**Hadoop On Google Colab**\n",
    "**Module 2, Section 1.2**  \n",
    "**Block 9: Big Data Processing and NLP**\n",
    "\n",
    "<a href=\"https://colab.research.google.com/github/apanqasem/hadoop_tutorials/blob/main/hadoop_install_on_colab.ipynb\" target=\"_parent\"><img src=\"https://colab.research.google.com/assets/colab-badge.svg\" alt=\"Open In Colab\"/></a>\n",
    " \n",
    "In our previous tutorial we went through the steps of installing a single-node, pseudo-distributed Hadoop cluster on a Linux system. This tutorial will describe how to build and configure a single-node Hadoop system on [Google Colab](https://colab.research.google.com/). Google Colab is a free Jupyter notebook environment that runs in the cloud. \n",
    "As we will see, setting up Hadoop on Google Colab is much easier than setting it up on your system. However, the downside is that you will need to repeat the installation step each time you launch a Google Colab notebook. The reason for this is that Google Colab gives a new VM each time you open a notebook. Nontheless, Google Colab is a great sandbox for getting some practice with Hadoop and distributed processing, among many other things.  \n",
    "\n",
    "The tutorial should not take more than more 20 minutes. You do not have to complete it in one sitting, however. \n",
    "\n",
    "The tutorial has been written in a way such that all of the commands work out of the box in Google Colab. However, if a particular command does not work and you get a weird error message, please add your question to the discussion forum.\n",
    "\n",
    "The main steps for setting up Hadoop on Google Colab are listed below.\n",
    "\n",
    "[Getting Ready](#getting_ready)  \n",
    "[Download and Installation](#download)  \n",
    "[Configuration](#config)   \n",
    "[Running and Testing](#running)  \n",
    "[Conclusion](#end)  \n"
   ]
  },
  {
   "cell_type": "markdown",
   "metadata": {
    "id": "j9bT9M1yvyXG"
   },
   "source": [
    "## <a name=\"getting_ready\"></a> Getting Ready \n",
    "The Google Colab environment should have all the necessary software and packages to run Hadoop. \n",
    "\n",
    "But just as a precaution make sure that a recent version of Jave Runtime Environment (JRE) is installed. \n"
   ]
  },
  {
   "cell_type": "code",
   "execution_count": null,
   "metadata": {
    "id": "j3n50cDCGzx3"
   },
   "outputs": [],
   "source": [
    " !java -version "
   ]
  },
  {
   "cell_type": "markdown",
   "metadata": {
    "id": "1zCjqOJeHIBe"
   },
   "source": [
    "## <a name=\"download\"></a>Download and Installation \n",
    "\n",
    "You will need to download Hadoop from the [Apache Mirror server](https://dlcdn.apache.org/hadoop/common/). To download version 3.3.1, use the following command \n"
   ]
  },
  {
   "cell_type": "code",
   "execution_count": null,
   "metadata": {
    "id": "bijZAdD_cBMK"
   },
   "outputs": [],
   "source": [
    "!wget https://dlcdn.apache.org/hadoop/common/hadoop-3.3.1/hadoop-3.3.1.tar.gz"
   ]
  },
  {
   "cell_type": "markdown",
   "metadata": {
    "id": "Tgp2ime1HZnt"
   },
   "source": [
    "Now untar and unzip the archive using the `tar` command. "
   ]
  },
  {
   "cell_type": "code",
   "execution_count": null,
   "metadata": {
    "id": "nVce513-cBHm"
   },
   "outputs": [],
   "source": [
    "!tar -xzvf hadoop-3.3.1.tar.gz"
   ]
  },
  {
   "cell_type": "markdown",
   "metadata": {
    "id": "XPTJWWRKHrEq"
   },
   "source": [
    "The command should take a few seconds to run and you should see lots of output on the screen. If the untar command completed successfuly, the Hadoop binaries and libraries should now be in the `hadoop-3.3.1` directory. Check to see if the binaries are indeed there. \n"
   ]
  },
  {
   "cell_type": "code",
   "execution_count": null,
   "metadata": {
    "id": "83DbRdnJHpR0"
   },
   "outputs": [],
   "source": [
    "!ls hadoop-3.3.1/bin"
   ]
  },
  {
   "cell_type": "markdown",
   "metadata": {
    "id": "6ahgyAezIhbG"
   },
   "source": [
    "Right now, the installation of Hadoop is in the local directory. Although it does not really matter in Colab, it's generally a good idea to move it to a system location. On Colab, you always have `root` access on the VM that is given to you. So you can use the `cp` command to copy Hadoop to `/usr/local`"
   ]
  },
  {
   "cell_type": "code",
   "execution_count": null,
   "metadata": {
    "id": "JF-ze-YOdync"
   },
   "outputs": [],
   "source": [
    "!cp -r hadoop-3.3.1/ /usr/local/"
   ]
  },
  {
   "cell_type": "markdown",
   "metadata": {
    "id": "Li_dfrXrKl_u"
   },
   "source": [
    "## <a name=\"config\"></a>Configuration \n",
    "\n",
    "Hadoop is now installed on your system. But before we can run it we need to modify on configuration file."
   ]
  },
  {
   "cell_type": "markdown",
   "metadata": {
    "id": "Vh6Dqbbrwqpe"
   },
   "source": [
    "Hadoop requires that you set the path to Java, either as an environment variable or in the Hadoop configuration file. Just like Linux systems, Google Colab uses a symbolic link to the Java installation. To get the _actual_ location of Java use the following command. "
   ]
  },
  {
   "cell_type": "code",
   "execution_count": null,
   "metadata": {
    "id": "_OUc19ZtcBG5"
   },
   "outputs": [],
   "source": [
    "!readlink -f /usr/bin/java "
   ]
  },
  {
   "cell_type": "markdown",
   "metadata": {
    "id": "OEwDUJaWcVKc"
   },
   "source": [
    "Now, use the folder navigation pane on the left to browse to the file `/usr/local/hadoop-3.3.1/etc/hadoop/hadoop-env.sh`. Double-click on the file to open it for editing. Uncomment the line that begins with `export JAVA_HOME=` (should be line 54). Then add the Java path after the `=`\n",
    "\n",
    "```bash\n",
    "export JAVA_HOME=/usr/lib/jvm/java-11-openjdk-amd64/\n",
    "```"
   ]
  },
  {
   "cell_type": "markdown",
   "metadata": {
    "id": "RBgh3ue5Nvlf"
   },
   "source": [
    "### <a name=\"format\"></a>Formatting the `namenode` \n",
    "\n",
    "Now, we have Hadoop installed and configured. There is one more step before we can run the Hadoop cluster. The `namenode` must be fortmatted with `hdfs`. This is not the same as formatting or re-formatting a hard disk. This just ensure that the `namenode` has all the information to work with on the target hard disk. You may see a warning message saying the log file does not exist. You can safely ignore this warning.  \n"
   ]
  },
  {
   "cell_type": "code",
   "execution_count": null,
   "metadata": {
    "id": "FkKMT--cN01v"
   },
   "outputs": [],
   "source": [
    "!/usr/local/hadoop-3.3.1/bin/hdfs namenode -format"
   ]
  },
  {
   "cell_type": "markdown",
   "metadata": {
    "id": "Oj00rPPZyEWZ"
   },
   "source": [
    "## <a name=\"running\"></a>Running and Testing \n",
    "\n",
    "At this stage, we should be all set to run the Hadoop single-node cluster. To start the cluster, we need to invoke a script that is the in Hadoop `bin` directory. "
   ]
  },
  {
   "cell_type": "code",
   "execution_count": null,
   "metadata": {
    "id": "Zhf-zK7NcBDF"
   },
   "outputs": [],
   "source": [
    "!/usr/local/hadoop-3.3.1/bin/hadoop"
   ]
  },
  {
   "cell_type": "markdown",
   "metadata": {
    "id": "LZIPAfyAO5Ap"
   },
   "source": [
    "## <a name=\"end\"></a>Conclusion\n",
    "\n",
    "That's it! You now have a working Hadoop system in Google Colab."
   ]
  }
 ],
 "metadata": {
  "colab": {
   "provenance": [
    {
     "file_id": "https://github.com/apanqasem/hadoop_tutorials/blob/main/hadoop_install_on_colab.ipynb",
     "timestamp": 1685113882258
    }
   ]
  },
  "kernelspec": {
   "display_name": "Python 3 (ipykernel)",
   "language": "python",
   "name": "python3"
  },
  "language_info": {
   "codemirror_mode": {
    "name": "ipython",
    "version": 3
   },
   "file_extension": ".py",
   "mimetype": "text/x-python",
   "name": "python",
   "nbconvert_exporter": "python",
   "pygments_lexer": "ipython3",
   "version": "3.9.12"
  }
 },
 "nbformat": 4,
 "nbformat_minor": 1
}
